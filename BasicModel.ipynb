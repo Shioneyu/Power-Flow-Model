{
 "cells": [
  {
   "cell_type": "markdown",
   "metadata": {},
   "source": [
    "# Power Network: Power flow simulation using Newton-Raphson algorithm\n",
    "\n",
    "Why to do this:\n",
    "\n",
    "- The basic model here only considers the supply and demand balance of the power network, doesn't include the price - thus not including optimization problems. We may only need this balance part, and the functions of PyPSA are too complicated.\n",
    "- Neither I nor the WSP guy can smoothly use the Newton-Raphson algorithm of PyPSA. The results of this method are helpful in finding a good starting point for the optimization problem.\n",
    "- A good attempt, and leave some record.\n",
    "\n",
    "The whole solving process of the nonlinear equation system is elegant, especially by only solving specific parts of the equation system to achieve. It does NOT consider any optimization and constrain yet.\n",
    "\n",
    "- Use the collected information to construct the node admittance matrix and the line impedance matrix.\n",
    "\n",
    "- Construct the power injection vector, containing information on power injections at each bus.\n",
    "\n",
    "- Set initial guesses for voltage phase and magnitude.\n",
    "\n",
    "- Perform Newton-Raphson algorithm to solve inplicit part of the nonlinear equation system in power flow nodal analysis.\n",
    "\n",
    "- Using the explicit equations, calculate the active injection at the slack bus and the reactive injections at the PV buses.\n",
    "\n",
    "- Calculate line flows."
   ]
  },
  {
   "cell_type": "markdown",
   "metadata": {},
   "source": [
    "## 1. Collect Grid Parameters:"
   ]
  },
  {
   "cell_type": "markdown",
   "metadata": {},
   "source": [
    "Here we will use an example network dataset to create our own basic power network model step by step. \n",
    "\n",
    "First, let's reviwe the data.\n",
    "\n",
    "- Gather the topology of the grid, including:\n",
    "\n",
    "  buses.csv, \n",
    "\n",
    "  lines.csv, \n",
    "\n",
    "  links.csv, \n",
    "\n",
    "  loads.csv, \n",
    "\n",
    "  generators.csv.\n",
    "\n",
    "- Collect data on power injections at each bus at each snapshot, such as:\n",
    "\n",
    "  loads-p_set.csv, \n",
    "\n",
    "  generators-p_max_pu.csv, \n",
    "\n",
    "  links-p_set.csv. \n",
    "\n",
    "  We can also set the nominal level or the limits number of \"p\" or \"s\" for lines, links and generators... But we don't set here to simplfy. Links-p_set here is the dispatch set point for p0 of the link in Power Flow.\n",
    "\n",
    "- Gather parameters for the components, like the costs, impedances, admittances, etc. Here we haven't consider the optimization of power grid, so it is not necessary to read the cost data."
   ]
  },
  {
   "cell_type": "markdown",
   "metadata": {},
   "source": [
    "### 1.1 Read input data"
   ]
  },
  {
   "cell_type": "code",
   "execution_count": 2,
   "metadata": {},
   "outputs": [],
   "source": [
    "import numpy as np\n",
    "import networkx as nx\n",
    "import matplotlib.pyplot as plt\n",
    "import pandas as pd\n",
    "from scipy.sparse import csr_matrix, csc_matrix\n",
    "# CSR format: suitable for scenarios where row slicing and row operations are efficient, \n",
    "#             such as matrix-vector multiplication and solving linear equations.\n",
    "# CSC format: suitable for scenarios where column slicing and column operations are efficient, \n",
    "#             such as transposing matrices and column operations.\n",
    "import sympy as sp"
   ]
  },
  {
   "cell_type": "code",
   "execution_count": 3,
   "metadata": {},
   "outputs": [],
   "source": [
    "buses_df = pd.read_csv(\"./buses.csv\")\n",
    "generators_df = pd.read_csv(\"./generators.csv\")\n",
    "lines_df = pd.read_csv(\"./lines.csv\")\n",
    "links_df = pd.read_csv(\"./links.csv\")\n",
    "loads_df = pd.read_csv(\"./loads.csv\")\n",
    "carriers_df = pd.read_csv(\"./carriers.csv\")\n",
    "generatorspmaxpu_df = pd.read_csv(\"./generators-p_max_pu.csv\")\n",
    "linkspset_df = pd.read_csv(\"./links-p_set.csv\")\n",
    "loadspset_df = pd.read_csv(\"./loads-p_set.csv\")\n",
    "snapshots_df = pd.read_csv(\"./snapshots.csv\")"
   ]
  },
  {
   "cell_type": "markdown",
   "metadata": {},
   "source": [
    "Check the data below:"
   ]
  },
  {
   "cell_type": "code",
   "execution_count": 4,
   "metadata": {},
   "outputs": [
    {
     "data": {
      "text/html": [
       "<div>\n",
       "<style scoped>\n",
       "    .dataframe tbody tr th:only-of-type {\n",
       "        vertical-align: middle;\n",
       "    }\n",
       "\n",
       "    .dataframe tbody tr th {\n",
       "        vertical-align: top;\n",
       "    }\n",
       "\n",
       "    .dataframe thead th {\n",
       "        text-align: right;\n",
       "    }\n",
       "</style>\n",
       "<table border=\"1\" class=\"dataframe\">\n",
       "  <thead>\n",
       "    <tr style=\"text-align: right;\">\n",
       "      <th></th>\n",
       "      <th>name</th>\n",
       "      <th>v_nom</th>\n",
       "      <th>carrier</th>\n",
       "      <th>x</th>\n",
       "      <th>y</th>\n",
       "    </tr>\n",
       "  </thead>\n",
       "  <tbody>\n",
       "    <tr>\n",
       "      <th>0</th>\n",
       "      <td>London</td>\n",
       "      <td>380</td>\n",
       "      <td>AC</td>\n",
       "      <td>-0.13</td>\n",
       "      <td>51.50</td>\n",
       "    </tr>\n",
       "    <tr>\n",
       "      <th>1</th>\n",
       "      <td>Norwich</td>\n",
       "      <td>380</td>\n",
       "      <td>AC</td>\n",
       "      <td>1.30</td>\n",
       "      <td>52.60</td>\n",
       "    </tr>\n",
       "    <tr>\n",
       "      <th>2</th>\n",
       "      <td>Norwich DC</td>\n",
       "      <td>200</td>\n",
       "      <td>DC</td>\n",
       "      <td>1.30</td>\n",
       "      <td>52.50</td>\n",
       "    </tr>\n",
       "    <tr>\n",
       "      <th>3</th>\n",
       "      <td>Manchester</td>\n",
       "      <td>380</td>\n",
       "      <td>AC</td>\n",
       "      <td>-2.20</td>\n",
       "      <td>53.47</td>\n",
       "    </tr>\n",
       "    <tr>\n",
       "      <th>4</th>\n",
       "      <td>Bremen</td>\n",
       "      <td>380</td>\n",
       "      <td>AC</td>\n",
       "      <td>8.80</td>\n",
       "      <td>53.08</td>\n",
       "    </tr>\n",
       "    <tr>\n",
       "      <th>5</th>\n",
       "      <td>Bremen DC</td>\n",
       "      <td>200</td>\n",
       "      <td>DC</td>\n",
       "      <td>8.80</td>\n",
       "      <td>52.98</td>\n",
       "    </tr>\n",
       "    <tr>\n",
       "      <th>6</th>\n",
       "      <td>Frankfurt</td>\n",
       "      <td>380</td>\n",
       "      <td>AC</td>\n",
       "      <td>8.70</td>\n",
       "      <td>50.12</td>\n",
       "    </tr>\n",
       "    <tr>\n",
       "      <th>7</th>\n",
       "      <td>Norway</td>\n",
       "      <td>380</td>\n",
       "      <td>AC</td>\n",
       "      <td>10.75</td>\n",
       "      <td>60.00</td>\n",
       "    </tr>\n",
       "    <tr>\n",
       "      <th>8</th>\n",
       "      <td>Norway DC</td>\n",
       "      <td>200</td>\n",
       "      <td>DC</td>\n",
       "      <td>10.75</td>\n",
       "      <td>60.00</td>\n",
       "    </tr>\n",
       "  </tbody>\n",
       "</table>\n",
       "</div>"
      ],
      "text/plain": [
       "         name  v_nom carrier      x      y\n",
       "0      London    380      AC  -0.13  51.50\n",
       "1     Norwich    380      AC   1.30  52.60\n",
       "2  Norwich DC    200      DC   1.30  52.50\n",
       "3  Manchester    380      AC  -2.20  53.47\n",
       "4      Bremen    380      AC   8.80  53.08\n",
       "5   Bremen DC    200      DC   8.80  52.98\n",
       "6   Frankfurt    380      AC   8.70  50.12\n",
       "7      Norway    380      AC  10.75  60.00\n",
       "8   Norway DC    200      DC  10.75  60.00"
      ]
     },
     "execution_count": 4,
     "metadata": {},
     "output_type": "execute_result"
    }
   ],
   "source": [
    "buses_df"
   ]
  },
  {
   "cell_type": "markdown",
   "metadata": {},
   "source": [
    "### 1.2 Build grid graph"
   ]
  },
  {
   "cell_type": "markdown",
   "metadata": {},
   "source": [
    "#### 1.2.1 Build the network using the input data, including buses, generators, lines, links, loads, topology."
   ]
  },
  {
   "cell_type": "code",
   "execution_count": 5,
   "metadata": {},
   "outputs": [],
   "source": [
    "# create a new empty undirected graph\n",
    "G = nx.Graph()\n",
    "\n",
    "# add ids for nodes\n",
    "buses_df[\"id\"] =  range(len(buses_df))\n",
    "\n",
    "# create a mapping of node names to ids\n",
    "name_to_id = buses_df.set_index(\"name\")[\"id\"].to_dict()\n",
    "id_to_name = {value: key for key, value in name_to_id.items()}\n",
    "\n",
    "# add nodes from buses\n",
    "for _, row in buses_df.iterrows():\n",
    "    # iterate over DataFrame rows as (index, Series) pairs\n",
    "    G.add_node(row[\"id\"], name=row['name'], latitude=row['y'], longitude=row['x'], carrier=row['carrier'], vnom=row['v_nom'])\n",
    "# add information of generators, loads\n",
    "\n",
    "# add edges and attribution: lines, links\n",
    "for _, row in lines_df.iterrows():\n",
    "    from_node = name_to_id[row['bus0']]\n",
    "    to_node = name_to_id[row['bus1']]\n",
    "    impedance = row[\"r\"] + 1j * row[\"x\"]\n",
    "    G.add_edge(from_node, to_node, impedance=impedance)\n",
    "for _,row in links_df.iterrows():\n",
    "    from_node = name_to_id[row['bus0']]\n",
    "    to_node = name_to_id[row['bus1']]\n",
    "    G.add_edge(from_node, to_node, efficiency=1)\n",
    "    # set the efficiency = 1 to build lossless links"
   ]
  },
  {
   "cell_type": "markdown",
   "metadata": {},
   "source": [
    "#### 1.2.2 Draw the network with location information."
   ]
  },
  {
   "cell_type": "code",
   "execution_count": 6,
   "metadata": {},
   "outputs": [
    {
     "data": {
      "image/png": "[encoded data removed]",
      "text/plain": [
       "<Figure size 1000x600 with 1 Axes>"
      ]
     },
     "metadata": {},
     "output_type": "display_data"
    }
   ],
   "source": [
    "# read the location information of nodes\n",
    "pos = {node: (data[\"longitude\"], data['latitude']) for node, data in G.nodes(data=True)}\n",
    "# if data is True then the attribute becomes the entire data dictionary\n",
    "\n",
    "# set the edge color\n",
    "edge_colors = []\n",
    "for bus0, bus1, data in G.edges(data=True):\n",
    "    if \"efficiency\" in data.keys():\n",
    "        edge_colors.append(\"green\")\n",
    "        # links (eg. HVDC, converters...) are green\n",
    "    elif G.nodes[bus0][\"carrier\"] == \"DC\":\n",
    "        edge_colors.append(\"blue\")\n",
    "        # DC lines are blue\n",
    "    elif G.nodes[bus0][\"carrier\"] == \"AC\":\n",
    "        edge_colors.append(\"red\")\n",
    "        # AC lines are red\n",
    "\n",
    "# plot the network\n",
    "plt.figure(figsize=(10,6))\n",
    "nx.draw(G, pos, with_labels=True, node_size=200, node_color='skyblue', font_size=7, \n",
    "        font_weight='bold', edge_color=edge_colors, width=2)\n",
    "\n",
    "# plot the node labels\n",
    "node_labels = nx.get_node_attributes(G, 'name')\n",
    "#nx.draw_networkx_labels(G, pos, labels=node_labels, font_size=12)\n",
    "texts = []\n",
    "for node, (x, y) in pos.items():\n",
    "    text = plt.text(x, y, node_labels[node], fontsize=15, ha='right', va='bottom')\n",
    "    texts.append(text)\n",
    "\n",
    "# adjust label position to avoid overlap\n",
    "from adjustText import adjust_text\n",
    "adjust_text(texts, arrowprops=dict(arrowstyle='-', color='gray', lw=0.5))\n",
    "\n",
    "plt.xlabel('Longitude')\n",
    "plt.ylabel('Latitude')\n",
    "plt.title('Geographical Power Network')\n",
    "plt.grid(True)\n",
    "plt.show()"
   ]
  },
  {
   "cell_type": "markdown",
   "metadata": {},
   "source": [
    "## 2. Prepare the system of equations"
   ]
  },
  {
   "cell_type": "markdown",
   "metadata": {},
   "source": [
    "### 2.1 Build equations of passive branches: lines - admittance matrix\n",
    "\n",
    "We calculate the admittance of each lines in order to build the admittance matrix following the Y matrix rules. We want the admittance matrix Y to be the same for all snapshots for convenience here."
   ]
  },
  {
   "cell_type": "code",
   "execution_count": 7,
   "metadata": {},
   "outputs": [
    {
     "data": {
      "text/plain": [
       "{'London': 0,\n",
       " 'Norwich': 1,\n",
       " 'Norwich DC': 2,\n",
       " 'Manchester': 3,\n",
       " 'Bremen': 4,\n",
       " 'Bremen DC': 5,\n",
       " 'Frankfurt': 6,\n",
       " 'Norway': 7,\n",
       " 'Norway DC': 8}"
      ]
     },
     "execution_count": 7,
     "metadata": {},
     "output_type": "execute_result"
    }
   ],
   "source": [
    "name_to_id"
   ]
  },
  {
   "cell_type": "code",
   "execution_count": 8,
   "metadata": {},
   "outputs": [
    {
     "data": {
      "text/html": [
       "<div>\n",
       "<style scoped>\n",
       "    .dataframe tbody tr th:only-of-type {\n",
       "        vertical-align: middle;\n",
       "    }\n",
       "\n",
       "    .dataframe tbody tr th {\n",
       "        vertical-align: top;\n",
       "    }\n",
       "\n",
       "    .dataframe thead th {\n",
       "        text-align: right;\n",
       "    }\n",
       "</style>\n",
       "<table border=\"1\" class=\"dataframe\">\n",
       "  <thead>\n",
       "    <tr style=\"text-align: right;\">\n",
       "      <th></th>\n",
       "      <th>name</th>\n",
       "      <th>b</th>\n",
       "      <th>bus0</th>\n",
       "      <th>bus1</th>\n",
       "      <th>capital_cost</th>\n",
       "      <th>s_nom</th>\n",
       "      <th>s_nom_extendable</th>\n",
       "      <th>x</th>\n",
       "      <th>r</th>\n",
       "    </tr>\n",
       "  </thead>\n",
       "  <tbody>\n",
       "    <tr>\n",
       "      <th>0</th>\n",
       "      <td>0</td>\n",
       "      <td>0</td>\n",
       "      <td>London</td>\n",
       "      <td>Manchester</td>\n",
       "      <td>0.136716</td>\n",
       "      <td>40000</td>\n",
       "      <td>True</td>\n",
       "      <td>0.796878</td>\n",
       "      <td>0.000000</td>\n",
       "    </tr>\n",
       "    <tr>\n",
       "      <th>1</th>\n",
       "      <td>1</td>\n",
       "      <td>0</td>\n",
       "      <td>Manchester</td>\n",
       "      <td>Norwich</td>\n",
       "      <td>0.133492</td>\n",
       "      <td>40000</td>\n",
       "      <td>True</td>\n",
       "      <td>0.391560</td>\n",
       "      <td>0.000000</td>\n",
       "    </tr>\n",
       "    <tr>\n",
       "      <th>2</th>\n",
       "      <td>2</td>\n",
       "      <td>0</td>\n",
       "      <td>Bremen DC</td>\n",
       "      <td>Norwich DC</td>\n",
       "      <td>0.008673</td>\n",
       "      <td>40000</td>\n",
       "      <td>True</td>\n",
       "      <td>0.000000</td>\n",
       "      <td>0.212604</td>\n",
       "    </tr>\n",
       "    <tr>\n",
       "      <th>3</th>\n",
       "      <td>3</td>\n",
       "      <td>0</td>\n",
       "      <td>Norwich DC</td>\n",
       "      <td>Norway DC</td>\n",
       "      <td>0.129126</td>\n",
       "      <td>40000</td>\n",
       "      <td>True</td>\n",
       "      <td>0.000000</td>\n",
       "      <td>0.486164</td>\n",
       "    </tr>\n",
       "    <tr>\n",
       "      <th>4</th>\n",
       "      <td>4</td>\n",
       "      <td>0</td>\n",
       "      <td>Norway DC</td>\n",
       "      <td>Bremen DC</td>\n",
       "      <td>0.062430</td>\n",
       "      <td>40000</td>\n",
       "      <td>True</td>\n",
       "      <td>0.000000</td>\n",
       "      <td>0.428727</td>\n",
       "    </tr>\n",
       "    <tr>\n",
       "      <th>5</th>\n",
       "      <td>5</td>\n",
       "      <td>0</td>\n",
       "      <td>Norwich</td>\n",
       "      <td>London</td>\n",
       "      <td>0.021852</td>\n",
       "      <td>40000</td>\n",
       "      <td>True</td>\n",
       "      <td>0.238800</td>\n",
       "      <td>0.000000</td>\n",
       "    </tr>\n",
       "    <tr>\n",
       "      <th>6</th>\n",
       "      <td>6</td>\n",
       "      <td>0</td>\n",
       "      <td>Bremen</td>\n",
       "      <td>Frankfurt</td>\n",
       "      <td>0.200000</td>\n",
       "      <td>40000</td>\n",
       "      <td>True</td>\n",
       "      <td>0.400000</td>\n",
       "      <td>0.000000</td>\n",
       "    </tr>\n",
       "  </tbody>\n",
       "</table>\n",
       "</div>"
      ],
      "text/plain": [
       "   name  b        bus0        bus1  capital_cost  s_nom  s_nom_extendable  \\\n",
       "0     0  0      London  Manchester      0.136716  40000              True   \n",
       "1     1  0  Manchester     Norwich      0.133492  40000              True   \n",
       "2     2  0   Bremen DC  Norwich DC      0.008673  40000              True   \n",
       "3     3  0  Norwich DC   Norway DC      0.129126  40000              True   \n",
       "4     4  0   Norway DC   Bremen DC      0.062430  40000              True   \n",
       "5     5  0     Norwich      London      0.021852  40000              True   \n",
       "6     6  0      Bremen   Frankfurt      0.200000  40000              True   \n",
       "\n",
       "          x         r  \n",
       "0  0.796878  0.000000  \n",
       "1  0.391560  0.000000  \n",
       "2  0.000000  0.212604  \n",
       "3  0.000000  0.486164  \n",
       "4  0.000000  0.428727  \n",
       "5  0.238800  0.000000  \n",
       "6  0.400000  0.000000  "
      ]
     },
     "execution_count": 8,
     "metadata": {},
     "output_type": "execute_result"
    }
   ],
   "source": [
    "lines_df"
   ]
  },
  {
   "cell_type": "code",
   "execution_count": null,
   "metadata": {},
   "outputs": [],
   "source": [
    "# learn the usage of \".inerrows\"\n",
    "lines_df\n",
    "for index, row in lines_df.iterrows():\n",
    "    print(name_to_id[row.bus0])"
   ]
  },
  {
   "cell_type": "markdown",
   "metadata": {},
   "source": [
    "Calculate Y matrix (Admittance Matrix)."
   ]
  },
  {
   "cell_type": "code",
   "execution_count": 7,
   "metadata": {},
   "outputs": [],
   "source": [
    "def creat_ymatrix(buses, lines):\n",
    "    n = len(buses)\n",
    "    ymatrix = np.zeros((n,n),dtype=complex)\n",
    "\n",
    "    # we already have a mapping of node names to ids: name_to_id\n",
    "\n",
    "    for index, row in lines.iterrows():\n",
    "        # read the DF by row\n",
    "        from_idx =  name_to_id[row.bus0]\n",
    "        to_idx = name_to_id[row.bus1]\n",
    "        impedance = row[\"r\"] + 1j * row[\"x\"]  # impedance is always positive, Ohm\n",
    "        # print(\"r\",row[\"r\"],\"x\", row[\"x\"], impedance)\n",
    "        admittance = 1 / impedance  # Siemens\n",
    "        ymatrix[from_idx, to_idx] -= admittance\n",
    "        ymatrix[to_idx,from_idx] -= admittance\n",
    "        ymatrix[from_idx,from_idx] += admittance\n",
    "        ymatrix[to_idx,to_idx] += admittance\n",
    "\n",
    "    return ymatrix\n"
   ]
  },
  {
   "cell_type": "markdown",
   "metadata": {},
   "source": [
    "Try one snapshot first. To simplify our example, for every snapshot, the ymatrix is the same."
   ]
  },
  {
   "cell_type": "code",
   "execution_count": 8,
   "metadata": {},
   "outputs": [
    {
     "name": "stdout",
     "output_type": "stream",
     "text": [
      "[0.-5.44249541j 0.+4.18759862j 0.+0.j         0.+1.25489679j\n",
      " 0.+0.j         0.+0.j         0.+0.j         0.+0.j\n",
      " 0.+0.j        ]\n",
      "(9, 9)\n"
     ]
    }
   ],
   "source": [
    "ymatrix = creat_ymatrix(buses_df,lines_df)\n",
    "print(ymatrix[0]) # Siemens\n",
    "print(ymatrix.shape)"
   ]
  },
  {
   "cell_type": "markdown",
   "metadata": {},
   "source": [
    "Seperate the imaginary and real part of the Ymatrix."
   ]
  },
  {
   "cell_type": "code",
   "execution_count": 79,
   "metadata": {},
   "outputs": [
    {
     "name": "stdout",
     "output_type": "stream",
     "text": [
      "yes\n",
      "[[ 0.    0.    0.    0.    0.    0.    0.    0.    0.  ]\n",
      " [ 0.    0.    0.    0.    0.    0.    0.    0.    0.  ]\n",
      " [ 0.    0.    6.76  0.    0.   -4.7   0.    0.   -2.06]\n",
      " [ 0.    0.    0.    0.    0.    0.    0.    0.    0.  ]\n",
      " [ 0.    0.    0.    0.    0.    0.    0.    0.    0.  ]\n",
      " [ 0.    0.   -4.7   0.    0.    7.04  0.    0.   -2.33]\n",
      " [ 0.    0.    0.    0.    0.    0.    0.    0.    0.  ]\n",
      " [ 0.    0.    0.    0.    0.    0.    0.    0.    0.  ]\n",
      " [ 0.    0.   -2.06  0.    0.   -2.33  0.    0.    4.39]]\n"
     ]
    }
   ],
   "source": [
    "# apart the imaginary and real part of the Y matrix\n",
    "# Y matrix is symmetrical along the diagonal\n",
    "\n",
    "# real part\n",
    "G = np.real(ymatrix)\n",
    "\n",
    "# imaginary part\n",
    "B = np.imag(ymatrix)\n",
    "\n",
    "# check if G, B is right\n",
    "he = G + 1j*B\n",
    "if np.array_equal(ymatrix, he):\n",
    "    print(\"yes\")\n",
    "\n",
    "# sparsity programming\n",
    "sparse_G = csr_matrix(G)\n",
    "sparse_B = csr_matrix(B)\n",
    "#print(G,\"\\n\", B)\n",
    "print(G)"
   ]
  },
  {
   "cell_type": "markdown",
   "metadata": {},
   "source": [
    "### 2.2 Build equations of dispatchable branches: links - efficiency"
   ]
  },
  {
   "cell_type": "markdown",
   "metadata": {},
   "source": [
    "Here, we have links that are different from (AC and DC) lines. They can be used for any element with a controllable power flow: such as a bidirectional point-to-point HVDC link, a unidirectional lossy HVDC link, a converter between an AC and a DC network, a heat pump or resistive heater from an AC/DC bus to a heat bus. Because links don't have specific impedance, but can have an efficiency loss and a marginal cost, we set the efficiency of links as 1, that is \"lossless\". The flows in links are fully controllable. Networks of links implement Kirchoff’s Current Law (energy conservation at each bus), but not Kirchoff’s Voltage Law, which is obeyed by networks of passive branches.\n",
    "\n",
    "Its default settings allow only for power flow in one direction, from bus0 to bus1. And active power at bus0 is positive if branch is withdrawing power from bus0."
   ]
  },
  {
   "cell_type": "code",
   "execution_count": 36,
   "metadata": {},
   "outputs": [
    {
     "data": {
      "text/html": [
       "<div>\n",
       "<style scoped>\n",
       "    .dataframe tbody tr th:only-of-type {\n",
       "        vertical-align: middle;\n",
       "    }\n",
       "\n",
       "    .dataframe tbody tr th {\n",
       "        vertical-align: top;\n",
       "    }\n",
       "\n",
       "    .dataframe thead th {\n",
       "        text-align: right;\n",
       "    }\n",
       "</style>\n",
       "<table border=\"1\" class=\"dataframe\">\n",
       "  <thead>\n",
       "    <tr style=\"text-align: right;\">\n",
       "      <th></th>\n",
       "      <th>name</th>\n",
       "      <th>bus0</th>\n",
       "      <th>bus1</th>\n",
       "      <th>capital_cost</th>\n",
       "      <th>p_max_pu</th>\n",
       "      <th>p_min_pu</th>\n",
       "      <th>p_nom</th>\n",
       "      <th>p_nom_extendable</th>\n",
       "      <th>p_nom_min</th>\n",
       "    </tr>\n",
       "  </thead>\n",
       "  <tbody>\n",
       "    <tr>\n",
       "      <th>0</th>\n",
       "      <td>Norwich Converter</td>\n",
       "      <td>Norwich</td>\n",
       "      <td>Norwich DC</td>\n",
       "      <td>0.210000</td>\n",
       "      <td>0.9</td>\n",
       "      <td>-0.9</td>\n",
       "      <td>1000</td>\n",
       "      <td>True</td>\n",
       "      <td>0</td>\n",
       "    </tr>\n",
       "    <tr>\n",
       "      <th>1</th>\n",
       "      <td>Norway Converter</td>\n",
       "      <td>Norway</td>\n",
       "      <td>Norway DC</td>\n",
       "      <td>0.200000</td>\n",
       "      <td>0.9</td>\n",
       "      <td>-0.9</td>\n",
       "      <td>1000</td>\n",
       "      <td>True</td>\n",
       "      <td>0</td>\n",
       "    </tr>\n",
       "    <tr>\n",
       "      <th>2</th>\n",
       "      <td>Bremen Converter</td>\n",
       "      <td>Bremen</td>\n",
       "      <td>Bremen DC</td>\n",
       "      <td>0.190000</td>\n",
       "      <td>0.9</td>\n",
       "      <td>-0.9</td>\n",
       "      <td>1000</td>\n",
       "      <td>True</td>\n",
       "      <td>0</td>\n",
       "    </tr>\n",
       "    <tr>\n",
       "      <th>3</th>\n",
       "      <td>DC link</td>\n",
       "      <td>London</td>\n",
       "      <td>Bremen</td>\n",
       "      <td>0.876534</td>\n",
       "      <td>0.9</td>\n",
       "      <td>-0.9</td>\n",
       "      <td>1000</td>\n",
       "      <td>True</td>\n",
       "      <td>0</td>\n",
       "    </tr>\n",
       "  </tbody>\n",
       "</table>\n",
       "</div>"
      ],
      "text/plain": [
       "                name     bus0        bus1  capital_cost  p_max_pu  p_min_pu  \\\n",
       "0  Norwich Converter  Norwich  Norwich DC      0.210000       0.9      -0.9   \n",
       "1   Norway Converter   Norway   Norway DC      0.200000       0.9      -0.9   \n",
       "2   Bremen Converter   Bremen   Bremen DC      0.190000       0.9      -0.9   \n",
       "3            DC link   London      Bremen      0.876534       0.9      -0.9   \n",
       "\n",
       "   p_nom  p_nom_extendable  p_nom_min  \n",
       "0   1000              True          0  \n",
       "1   1000              True          0  \n",
       "2   1000              True          0  \n",
       "3   1000              True          0  "
      ]
     },
     "execution_count": 36,
     "metadata": {},
     "output_type": "execute_result"
    }
   ],
   "source": [
    "links_df"
   ]
  },
  {
   "cell_type": "markdown",
   "metadata": {},
   "source": [
    "## 3. Perform Newton-Raphson algorithm for power flow: solve the implicit equations until mismatches are sufficiently small."
   ]
  },
  {
   "cell_type": "markdown",
   "metadata": {},
   "source": [
    "### 3.1 Method overview"
   ]
  },
  {
   "cell_type": "markdown",
   "metadata": {},
   "source": [
    "Use the Newton-Raphson method or other iterative methods to solve the power flow equations.\n",
    "Formulate the power flow equations as a set of nonlinear equations involving node voltages and power injections.\n",
    "Set convergence criteria, such as maximum iterations or error tolerance.\n",
    "\n",
    "Steps of NR method:\n",
    "\n",
    "- for all implicit equations whose P and Q is known, use NR method.(set there are m implicit equations, and every equation has )\n",
    "- according Taylor first-order expansion at point $ (x_1^0, x_2^0,..., x_m^0) $, \n",
    "$$\n",
    "f_i(x_1^0, x_2^0,..., x_m^0)+\\sum_{j=1}^{m} \\frac{\\partial f}{\\partial x_i} (x_i - x_i^0) = 0\n",
    "$$\n",
    "$$\n",
    "i=1,2,...,m \n",
    "$$\n",
    "It is easy to prove that the number of unknown parameters is equal to the number of equations, here we set it as m.\n",
    "\n",
    "- rewrite in matrix form, and get the Jacobian matrix $ (m \\times m)$ : $ J(x_1^0, x_2^0,..., x_m^0) $ at point $ (x_1^0, x_2^0,..., x_m^0) $\n",
    "$$ \n",
    "\\begin{pmatrix} \n",
    "\\frac {\\partial f_1(x_1^0, x_2^0,..., x_m^0)}{\\partial x_1} & \\frac {\\partial f_1(x_1^0, x_2^0,..., x_m^0)}{\\partial x_2} & ... & \\frac{\\partial f_1(x_1^0, x_2^0,..., x_m^0)}{\\partial x_m} \\\\ \n",
    "\\frac {\\partial f_2(x_1^0, x_2^0,..., x_m^0)}{\\partial x_1} & \\frac {\\partial f_2(x_1^0, x_2^0,..., x_m^0)}{\\partial x_2} & ... & \\frac{\\partial f_2(x_1^0, x_2^0,..., x_m^0)}{\\partial x_m} \\\\\n",
    "\\vdots & \\vdots & ... & \\vdots\\\\ \n",
    "\\frac {\\partial f_m(x_1^0, x_2^0,..., x_m^0)}{\\partial x_1} & \\frac {\\partial f_m(x_1^0, x_2^0,..., x_m^0)}{\\partial x_2} & ... & \\frac{\\partial f_m(x_1^0, x_2^0,..., x_m^0)}{\\partial x_m}\n",
    "\\end{pmatrix}\n",
    "$$\n",
    "\n",
    "The matrix form of system of the implicit equations is:\n",
    "$$\n",
    "J(x_1^0, x_2^0,..., x_m^0) \\times \\begin{pmatrix} x_1-x_1^0 \\\\ x_2-x_2^0 \\\\ \\vdots \\\\ x_m-x_m^0 \\end{pmatrix} = - \\begin{pmatrix} f_1(x_1^0, x_2^0,..., x_m^0) \\\\ f_2(x_1^0, x_2^0,..., x_m^0) \\\\ \\vdots \\\\ f_m(x_1^0, x_2^0,..., x_m^0) \\end{pmatrix}\n",
    "$$\n",
    "\n",
    "- invert the Jacobian matrix\n",
    "$$ J(x_1^0, x_2^0,..., x_m^0)^{-1} $$\n",
    "\n",
    "- calculate the corrections $ \\Delta x_i, i=1,2,...,m$\n",
    "$$\n",
    "\\begin{pmatrix} \\Delta x_1 \\\\ \\Delta x_2 \\\\ \\vdots \\\\ \\Delta x_m \\end{pmatrix} =- J(x_1^0, x_2^0,..., x_m^0)^{-1} \\begin{pmatrix} f_1(x_1^0, x_2^0,..., x_m^0) \\\\ f_2(x_1^0, x_2^0,..., x_m^0) \\\\ \\vdots \\\\ f_m(x_1^0, x_2^0,..., x_m^0) \\end{pmatrix}\n",
    "$$\n",
    "Considering the iteration, the equations become:\n",
    "\n",
    "$$\n",
    "\\begin{pmatrix} x_1^{k+1} \\\\ x_2^{k+1} \\\\ \\vdots \\\\ x_m^{k+1} \\end{pmatrix} - \\begin{pmatrix} x_1^{k} \\\\ x_2^{k} \\\\ \\vdots \\\\ x_m^{k} \\end{pmatrix} = \\begin{pmatrix} \\Delta x_1^k \\\\ \\Delta x_2^k \\\\ \\vdots \\\\ \\Delta x_m^k \\end{pmatrix} = - J(x_1^k, x_2^k,..., x_m^k)^{-1} \\begin{pmatrix} f_1(x_1^k, x_2^k,..., x_m^k) \\\\ f_2(x_1^k, x_2^k,..., x_m^k) \\\\ \\vdots \\\\ f_m(x_1^k, x_2^k,..., x_m^k) \\end{pmatrix}\n",
    "$$\n",
    "\n"
   ]
  },
  {
   "cell_type": "markdown",
   "metadata": {},
   "source": [
    "### 3.2 Prepare the implicit equations using the real data\n",
    "Apply NR method to the nodal power balance equations (only the implicit part), where the unknown parameters are voltage magnitude $V$ and phase $\\theta$ at node. We need to use data of PV buses and PQ buses."
   ]
  },
  {
   "cell_type": "markdown",
   "metadata": {},
   "source": [
    "#### 3.2.1 Methodology"
   ]
  },
  {
   "cell_type": "markdown",
   "metadata": {},
   "source": [
    "The nodal power balance can be expressed as followed:\n",
    "Active power injection at bus k: \n",
    "$$\n",
    "P_k = \\sum_{i=1}^{N} V_k V_i [G_{ki}cos(\\theta_{ki})+B_{ki}sin{\\theta_{ki}}]\n",
    "$$\n",
    "$$\n",
    "P_k = P_k^G - P_k^L\n",
    "$$\n",
    "Reactive power injection at bus k: \n",
    "$$\n",
    "Q_k = \\sum_{i=1}^{N} V_k V_i [G_{ki}sin(\\theta_{ki})-B_{ki}cos{\\theta_{ki}}]\n",
    "$$\n",
    "$$\n",
    "Q_k = Q_k^G - Q_k^L\n",
    "$$\n",
    "Only use P and Q of PQ buses and P of PV buses which is classified as implicit equations."
   ]
  },
  {
   "cell_type": "markdown",
   "metadata": {},
   "source": [
    "#### 3.2.2  classify PQ, PV, slack buses, and other buses.\n",
    "Other buses: without generators OR loads are otherbus, usually use for links: HVDC, inverters..."
   ]
  },
  {
   "cell_type": "code",
   "execution_count": 10,
   "metadata": {},
   "outputs": [
    {
     "name": "stdout",
     "output_type": "stream",
     "text": [
      "3\n",
      "[0, 1, 4, 2, 5]\n",
      "[7, 6, 8]\n"
     ]
    }
   ],
   "source": [
    "# check the Generator and load data to classify PQ, PV and slack buses (chapter 8 page 79-84). \n",
    "\n",
    "# Choose the first generator bus as the slack bus\n",
    "first_row = next(generators_df.iterrows())[1]\n",
    "slack = name_to_id[first_row[\"bus\"]]\n",
    "\n",
    "# Other generator buses are PVbus\n",
    "PVbus = []\n",
    "for index, row in generators_df.iterrows():\n",
    "    node =  name_to_id[row[\"bus\"]]\n",
    "    if node != slack:\n",
    "        if node not in PVbus:\n",
    "            PVbus.append(node)\n",
    "        \n",
    "# buses with only loads are PQ buses\n",
    "PQbus = []\n",
    "for index, row in loads_df.iterrows():\n",
    "    node =  name_to_id[row[\"bus\"]]\n",
    "    if node != slack:\n",
    "        if node not in PVbus:\n",
    "            if node not in PQbus:\n",
    "                PQbus.append(node)\n",
    "\n",
    "# Other buses without generators OR loads are otherbus, usually use for links: HVDC, inverters...\n",
    "otherbus = []\n",
    "for index, row in buses_df.iterrows():\n",
    "    node = row[\"id\"]\n",
    "    if node != slack:\n",
    "        if node not in PVbus:\n",
    "            if node not in PQbus:\n",
    "                otherbus.append(node)\n",
    "# Classify other buses\n",
    "for bus in otherbus:\n",
    "    if id_to_name[bus] in links_df[\"bus1\"].values:\n",
    "        corresponding_bus0 = links_df.loc[links_df['bus1'] == id_to_name[bus], 'bus0'].tolist()[0]\n",
    "        corresponding_id = name_to_id[corresponding_bus0]\n",
    "        if corresponding_id in PQbus:\n",
    "            PQbus.append(bus)\n",
    "        else:\n",
    "            #if is slack, also count as PV bus\n",
    "            PVbus.append(bus)\n",
    "#    elif id_to_name[bus] in links_df[\"bus0\"].values:\n",
    "                \n",
    "print(slack)\n",
    "print(PQbus)\n",
    "print(PVbus)"
   ]
  },
  {
   "cell_type": "markdown",
   "metadata": {},
   "source": [
    "#### 3.2.3 Add the attributes for each bus (for all snapshots)"
   ]
  },
  {
   "cell_type": "code",
   "execution_count": 35,
   "metadata": {},
   "outputs": [
    {
     "name": "stdout",
     "output_type": "stream",
     "text": [
      "{'2015-01-01 00:00:00': {'slack': {3: {'V': 380, 'theta': 0.0, 'P': None, 'Q': None}}, 'PVbus': {7: {'P': 18861.9599201287, 'V': 380, 'Q': None, 'theta': 0.0}, 6: {'P': 79247.9882131999, 'V': 380, 'Q': None, 'theta': 0.0}, 8: {'P': 415.4625642653, 'V': 200, 'Q': None, 'theta': 0.0}}, 'PQbus': {0: {'P': -19.6879342565, 'Q': 0, 'V': 380, 'theta': 0.0}, 1: {'P': -451.258808368, 'Q': 0, 'V': 380, 'theta': 0.0}, 4: {'P': -656.1946873873, 'Q': 0, 'V': 380, 'theta': 0.0}, 2: {'P': 35.7962441027, 'Q': 0, 'V': 380, 'theta': 0.0}, 5: {'P': -451.258808368, 'Q': 0, 'V': 380, 'theta': 0.0}}}, '2015-01-01 01:00:00': {'slack': {3: {'V': 380, 'theta': 0.0, 'P': None, 'Q': None}}, 'PVbus': {7: {'P': 18930.6888444656, 'V': 380, 'Q': None, 'theta': 0.0}, 6: {'P': 79387.7778881259, 'V': 380, 'Q': None, 'theta': 0.0}, 8: {'P': 262.6061464526, 'V': 200, 'Q': None, 'theta': 0.0}}, 'PQbus': {0: {'P': -537.2535088083999, 'Q': 0, 'V': 380, 'theta': 0.0}, 1: {'P': -1239.4307079224, 'Q': 0, 'V': 380, 'theta': 0.0}, 4: {'P': -1143.1253863674, 'Q': 0, 'V': 380, 'theta': 0.0}, 2: {'P': 976.8245614698, 'Q': 0, 'V': 380, 'theta': 0.0}, 5: {'P': -1239.4307079224, 'Q': 0, 'V': 380, 'theta': 0.0}}}, '2015-01-01 02:00:00': {'slack': {3: {'V': 380, 'theta': 0.0, 'P': None, 'Q': None}}, 'PVbus': {7: {'P': 19579.695482638803, 'V': 380, 'Q': None, 'theta': 0.0}, 6: {'P': 79215.3008783006, 'V': 380, 'Q': None, 'theta': 0.0}, 8: {'P': 418.4763531902, 'V': 200, 'Q': None, 'theta': 0.0}}, 'PQbus': {0: {'P': -137.82302162550002, 'Q': 0, 'V': 380, 'theta': 0.0}, 1: {'P': -669.0636652366, 'Q': 0, 'V': 380, 'theta': 0.0}, 4: {'P': -553.6004207392, 'Q': 0, 'V': 380, 'theta': 0.0}, 2: {'P': 250.5873120464, 'Q': 0, 'V': 380, 'theta': 0.0}, 5: {'P': -669.0636652366, 'Q': 0, 'V': 380, 'theta': 0.0}}}, '2015-01-01 03:00:00': {'slack': {3: {'V': 380, 'theta': 0.0, 'P': None, 'Q': None}}, 'PVbus': {7: {'P': 18859.488724185103, 'V': 380, 'Q': None, 'theta': 0.0}, 6: {'P': 78685.0131281707, 'V': 380, 'Q': None, 'theta': 0.0}, 8: {'P': 552.9595393098, 'V': 200, 'Q': None, 'theta': 0.0}}, 'PQbus': {0: {'P': -71.9142295205, 'Q': 0, 'V': 380, 'theta': 0.0}, 1: {'P': -683.7126838925, 'Q': 0, 'V': 380, 'theta': 0.0}, 4: {'P': -671.4152207440001, 'Q': 0, 'V': 380, 'theta': 0.0}, 2: {'P': 130.7531445827, 'Q': 0, 'V': 380, 'theta': 0.0}, 5: {'P': -683.7126838925, 'Q': 0, 'V': 380, 'theta': 0.0}}}, '2015-01-01 04:00:00': {'slack': {3: {'V': 380, 'theta': 0.0, 'P': None, 'Q': None}}, 'PVbus': {7: {'P': 18950.213090478403, 'V': 380, 'Q': None, 'theta': 0.0}, 6: {'P': 79327.56024577089, 'V': 380, 'Q': None, 'theta': 0.0}, 8: {'P': 218.159858091, 'V': 200, 'Q': None, 'theta': 0.0}}, 'PQbus': {0: {'P': -83.10509273, 'Q': 0, 'V': 380, 'theta': 0.0}, 1: {'P': -369.260026691, 'Q': 0, 'V': 380, 'theta': 0.0}, 4: {'P': -871.4318566751001, 'Q': 0, 'V': 380, 'theta': 0.0}, 2: {'P': 151.1001686, 'Q': 0, 'V': 380, 'theta': 0.0}, 5: {'P': -369.260026691, 'Q': 0, 'V': 380, 'theta': 0.0}}}, '2015-01-01 05:00:00': {'slack': {3: {'V': 380, 'theta': 0.0, 'P': None, 'Q': None}}, 'PVbus': {7: {'P': 18699.9305564048, 'V': 380, 'Q': None, 'theta': 0.0}, 6: {'P': 78437.2354089792, 'V': 380, 'Q': None, 'theta': 0.0}, 8: {'P': 791.9762655836, 'V': 200, 'Q': None, 'theta': 0.0}}, 'PQbus': {0: {'P': -512.5213785681, 'Q': 0, 'V': 380, 'theta': 0.0}, 1: {'P': -1723.8333175256, 'Q': 0, 'V': 380, 'theta': 0.0}, 4: {'P': -1024.7363607321, 'Q': 0, 'V': 380, 'theta': 0.0}, 2: {'P': 931.857051942, 'Q': 0, 'V': 380, 'theta': 0.0}, 5: {'P': -1723.8333175256, 'Q': 0, 'V': 380, 'theta': 0.0}}}, '2015-01-01 06:00:00': {'slack': {3: {'V': 380, 'theta': 0.0, 'P': None, 'Q': None}}, 'PVbus': {7: {'P': 18894.566690573403, 'V': 380, 'Q': None, 'theta': 0.0}, 6: {'P': 79027.40679815061, 'V': 380, 'Q': None, 'theta': 0.0}, 8: {'P': 531.8706808219, 'V': 200, 'Q': None, 'theta': 0.0}}, 'PQbus': {0: {'P': -159.4165579296, 'Q': 0, 'V': 380, 'theta': 0.0}, 1: {'P': -821.7189679666001, 'Q': 0, 'V': 380, 'theta': 0.0}, 4: {'P': -771.5223194548, 'Q': 0, 'V': 380, 'theta': 0.0}, 2: {'P': 289.8482871447, 'Q': 0, 'V': 380, 'theta': 0.0}, 5: {'P': -821.7189679666, 'Q': 0, 'V': 380, 'theta': 0.0}}}, '2015-01-01 07:00:00': {'slack': {3: {'V': 380, 'theta': 0.0, 'P': None, 'Q': None}}, 'PVbus': {7: {'P': 19767.235933623, 'V': 380, 'Q': None, 'theta': 0.0}, 6: {'P': 79283.81534878399, 'V': 380, 'Q': None, 'theta': 0.0}, 8: {'P': 23.5134667186, 'V': 200, 'Q': None, 'theta': 0.0}}, 'PQbus': {0: {'P': -475.38882694309996, 'Q': 0, 'V': 380, 'theta': 0.0}, 1: {'P': -887.8567884332999, 'Q': 0, 'V': 380, 'theta': 0.0}, 4: {'P': -796.9630359441, 'Q': 0, 'V': 380, 'theta': 0.0}, 2: {'P': 864.3433217147, 'Q': 0, 'V': 380, 'theta': 0.0}, 5: {'P': -887.8567884333, 'Q': 0, 'V': 380, 'theta': 0.0}}}, '2015-01-01 08:00:00': {'slack': {3: {'V': 380, 'theta': 0.0, 'P': None, 'Q': None}}, 'PVbus': {7: {'P': 19083.410411643697, 'V': 380, 'Q': None, 'theta': 0.0}, 6: {'P': 78141.415145763, 'V': 380, 'Q': None, 'theta': 0.0}, 8: {'P': 970.0590684572, 'V': 200, 'Q': None, 'theta': 0.0}}, 'PQbus': {0: {'P': -379.2674950737, 'Q': 0, 'V': 380, 'theta': 0.0}, 1: {'P': -1659.6363322275001, 'Q': 0, 'V': 380, 'theta': 0.0}, 4: {'P': -1222.5575448612, 'Q': 0, 'V': 380, 'theta': 0.0}, 2: {'P': 689.5772637703, 'Q': 0, 'V': 380, 'theta': 0.0}, 5: {'P': -1659.6363322275, 'Q': 0, 'V': 380, 'theta': 0.0}}}, '2015-01-01 09:00:00': {'slack': {3: {'V': 380, 'theta': 0.0, 'P': None, 'Q': None}}, 'PVbus': {7: {'P': 19282.2765935855, 'V': 380, 'Q': None, 'theta': 0.0}, 6: {'P': 79596.0741389139, 'V': 380, 'Q': None, 'theta': 0.0}, 8: {'P': 0.9248336907, 'V': 200, 'Q': None, 'theta': 0.0}}, 'PQbus': {0: {'P': -345.33344226890006, 'Q': 0, 'V': 380, 'theta': 0.0}, 1: {'P': -628.8038196341, 'Q': 0, 'V': 380, 'theta': 0.0}, 4: {'P': -1180.5986353168, 'Q': 0, 'V': 380, 'theta': 0.0}, 2: {'P': 627.8789859434, 'Q': 0, 'V': 380, 'theta': 0.0}, 5: {'P': -628.8038196341, 'Q': 0, 'V': 380, 'theta': 0.0}}}}\n"
     ]
    }
   ],
   "source": [
    "# build up an empty dictionary to store corresponding known parameters for each bus\n",
    "bus_attri = {}\n",
    "\n",
    "# Add the known attributes as time-series data for each bus\n",
    "# P: MW\n",
    "# Q: MVar\n",
    "# V: kV (Nominal voltage) \n",
    "# In Europe, 380kV is a common high voltage level used for national and cross-border power transmission.\n",
    "# theta：radians\n",
    "\n",
    "# As for the unknown parameters, we conly care about theta and V in implicit equations.\n",
    "# Let's try flat start first: V = 380 (kV), theta = 0 (rad)\n",
    "\n",
    "for time in snapshots_df[\"name\"]:\n",
    "    bus_attri[time] = {}\n",
    "\n",
    "    #slack bus    \n",
    "    bus_attri[time][\"slack\"] = {}\n",
    "    V_slack = next(buses_df.iterrows())[1][\"v_nom\"]\n",
    "    theta_slack = 0.0\n",
    "    bus_attri[time][\"slack\"][slack] = {\"V\" :V_slack, \"theta\" :theta_slack, \"P\" :None, \"Q\" :None}\n",
    "\n",
    "    #PV bus\n",
    "    bus_attri[time][\"PVbus\"] = {}\n",
    "    for id in PVbus:\n",
    "        # p_nom (MW) :Nominal power for limits in optimization. \n",
    "        # Here because we havn't start to potimize, so for PQ buses let it be the known value.\n",
    "        bus_attri[time][\"PVbus\"][id] = {}\n",
    "        bus = id_to_name[id]\n",
    "\n",
    "        #P = PG - PL + \"links\" #MW\n",
    "        PG_rows = generators_df[generators_df[\"bus\"] == bus]\n",
    "        PG_PVbus = 0\n",
    "        for name in PG_rows[\"name\"]:           \n",
    "            if name in generatorspmaxpu_df:\n",
    "                row_index = generatorspmaxpu_df.index[generatorspmaxpu_df[\"snapshots\"] == time].tolist()\n",
    "                PG_pmaxpu = generatorspmaxpu_df.loc[row_index,name].values[0]\n",
    "                # p_max_pu is the maximum output for each snapshot per unit of p_nom for the optimization \n",
    "            else:\n",
    "                PG_pmaxpu = 1\n",
    "            row_index_pnom = PG_rows.index[PG_rows[\"name\"] == name].tolist()\n",
    "            PG_vary = PG_rows.loc[row_index_pnom, \"p_nom\"].values[0] * PG_pmaxpu\n",
    "            # may be more than one row, sum\n",
    "            PG_PVbus = PG_PVbus + PG_vary\n",
    "                \n",
    "        if bus in loadspset_df:\n",
    "            row_index_loads = loadspset_df.index[loadspset_df[\"snapshots\"] == time].to_list()\n",
    "            PL_PVbus = loadspset_df.loc[row_index_loads, bus].values[0]\n",
    "        else:\n",
    "            PL_PVbus = 0\n",
    "\n",
    "        # Considering the links: positive means power from bus0 to bus1, so P_set for bus0:\"-\", for bus1:\"+\".\n",
    "        if bus in links_df[\"bus0\"].values:\n",
    "            converter = links_df.loc[links_df[\"bus0\"] == bus, \"name\"].tolist()[0]\n",
    "            row_plink = linkspset_df.index[linkspset_df[\"snapshots\"] == time].tolist()\n",
    "            P_link_PVbus = - linkspset_df.loc[row_plink, converter].values[0]\n",
    "\n",
    "        if bus in links_df[\"bus1\"].values:\n",
    "            converter = links_df.loc[links_df[\"bus1\"] == bus, \"name\"].tolist()[0]\n",
    "            row_plink = linkspset_df.index[linkspset_df[\"snapshots\"] == time].tolist()\n",
    "            P_link_PVbus = linkspset_df.loc[row_plink, converter].values[0]  \n",
    "\n",
    "        bus_attri[time][\"PVbus\"][id][\"P\"] = PG_PVbus - PL_PVbus + P_link_PVbus\n",
    "\n",
    "        # V = V_nom #kV\n",
    "        V_rows = buses_df[buses_df[\"name\"] == bus]\n",
    "        V_PVbus = V_rows[\"v_nom\"].values[0]\n",
    "        bus_attri[time][\"PVbus\"][id][\"V\"] = V_PVbus\n",
    "\n",
    "        # unknow Q; unknown theta has initial guess = 0.0 rad \n",
    "        bus_attri[time][\"PVbus\"][id][\"Q\"] = None\n",
    "        bus_attri[time][\"PVbus\"][id][\"theta\"] = 0.0\n",
    "\n",
    "    #PQ bus\n",
    "    bus_attri[time][\"PQbus\"] = {}\n",
    "    for id in PQbus:\n",
    "        bus_attri[time][\"PQbus\"][id] = {}\n",
    "        bus = id_to_name[id]\n",
    "\n",
    "        # P = PG - PL + \"links\" #MW\n",
    "        PG_rows = generators_df[generators_df[\"bus\"] == bus]\n",
    "        PG_PQbus = 0\n",
    "        for name in PG_rows[\"name\"]:           \n",
    "            if name in generatorspmaxpu_df:\n",
    "                row_index = generatorspmaxpu_df.index[generatorspmaxpu_df[\"snapshots\"] == time].tolist()\n",
    "                PG_pmaxpu = generatorspmaxpu_df.loc[row_index,name].values[0]\n",
    "                # p_max_pu is the maximum output for each snapshot per unit of p_nom for the optimization \n",
    "            else:\n",
    "                PG_pmaxpu = 1\n",
    "            row_index_pnom = PG_rows.index[PG_rows[\"name\"] == name].tolist()\n",
    "            PG_vary = PG_rows.loc[row_index_pnom, \"p_nom\"].values[0] * PG_pmaxpu\n",
    "            PG_PQbus = PG_PQbus + PG_vary    \n",
    "        \n",
    "        # the value of loads are time series data   \n",
    "        if bus in loadspset_df:\n",
    "            row_index_loads = loadspset_df.index[loadspset_df[\"snapshots\"] == time].to_list()\n",
    "            PL_PQbus = loadspset_df.loc[row_index_loads, bus].values[0]\n",
    "        else:\n",
    "            PL_PQbus = 0 \n",
    "        \n",
    "        # Considering the links: positive means power from bus0 to bus1, so P_set for bus0:\"-\", for bus1:\"+\".\n",
    "        # if there is any link:\n",
    "        if bus in links_df[\"bus0\"].values:\n",
    "            converter = links_df.loc[links_df[\"bus0\"] == bus, \"name\"].tolist()[0]\n",
    "            row_plink = linkspset_df.index[linkspset_df[\"snapshots\"] == time].tolist()\n",
    "            P_link_PQbus = - linkspset_df.loc[row_plink, converter].values[0]  # MW\n",
    "\n",
    "        if bus in links_df[\"bus1\"].values:\n",
    "            converter = links_df.loc[links_df[\"bus1\"] == bus, \"name\"].tolist()[0]\n",
    "            row_plink = linkspset_df.index[linkspset_df[\"snapshots\"] == time].tolist()\n",
    "            P_link_PQbus = linkspset_df.loc[row_plink, converter].values[0]  \n",
    "                  \n",
    "        bus_attri[time][\"PQbus\"][id][\"P\"] = PG_PQbus - PL_PQbus + P_link_PQbus\n",
    "\n",
    "        # Q = QG - QL #MVar\n",
    "        # No Q data for generators and loads in our example, so here simply set as 0\n",
    "        QG_rows = generators_df[generators_df[\"bus\"] == bus]\n",
    "        if \"q_nom\" in generators_df:\n",
    "            # may be more than one row, sum\n",
    "            QG_PQbus = QG_rows[\"q_nom\"].sum()\n",
    "        else:\n",
    "            QG_PQbus = 0\n",
    "\n",
    "        QL_rows =  loads_df[loads_df[\"bus\"] == bus]\n",
    "        if \"q_nom\" in loads_df:\n",
    "            QL_PQbus = QL_rows[\"q_nom\"].sum()\n",
    "        else:\n",
    "            QL_PQbus = 0\n",
    "\n",
    "        # No Q data for LINKS in our example, so here simply set as 0\n",
    "        Q_link_PQbus = 0\n",
    "        bus_attri[time][\"PQbus\"][id]['Q'] = QG_PQbus - QL_PQbus + Q_link_PQbus\n",
    "\n",
    "        # unknow V initial guess = 380 kV; unknown theta initial guess = 0.0 rad \n",
    "        bus_attri[time][\"PQbus\"][id][\"V\"] = 380\n",
    "        bus_attri[time][\"PQbus\"][id][\"theta\"] = 0.0                                        \n",
    "    \n",
    "    #other buses as long as who connect with a link\n",
    "    #bus_attri[time][\"otherbus\"] = {}\n",
    "    #for id in otherbus:\n",
    "            \n",
    "    #    bus_attri[time][\"otherbus\"][id] = {'P': None, 'Q': None, 'V': None, 'theta': None}\n",
    "\n",
    "print(bus_attri)"
   ]
  },
  {
   "cell_type": "markdown",
   "metadata": {},
   "source": [
    "#### 3.2.4 Set starting point for voltages and angles (only calculate one snapshot).\n",
    "The unknown parameters in implicit equations are only theta and V of PQ, PV buses."
   ]
  },
  {
   "cell_type": "code",
   "execution_count": 36,
   "metadata": {},
   "outputs": [
    {
     "name": "stdout",
     "output_type": "stream",
     "text": [
      "P {7: 18861.9599201287, 6: 79247.9882131999, 8: 415.4625642653, 0: -19.6879342565, 1: -451.258808368, 4: -656.1946873873, 2: 35.7962441027, 5: -451.258808368, 3: None} \n",
      "Q {0: 0, 1: 0, 4: 0, 2: 0, 5: 0, 3: None, 7: None, 6: None, 8: None} \n",
      "V {3: 380, 7: 380, 6: 380, 8: 200, 0: 380, 1: 380, 4: 380, 2: 380, 5: 380} \n",
      "theta {3: 0.0, 7: 0.0, 6: 0.0, 8: 0.0, 0: 0.0, 1: 0.0, 4: 0.0, 2: 0.0, 5: 0.0}\n"
     ]
    }
   ],
   "source": [
    "# The initial guess only include V and theta of PQ and PV bus. Others we don't set specifc values now.\n",
    "def extract_keys(nested_dict, time, keys_to_extract, attri):\n",
    "    \"\"\"\n",
    "    Extract specific keys (useful unknown parameters: V, theta of PV and PQ buses) from a nested dictionary and build a new dictionary.\n",
    "    :param nested_dict: multi-level nested dictionary\n",
    "    :param time: list of snapshots to extract\n",
    "    :param keys_to_extract: list of types of buses to extract\n",
    "    :param attri: name string \"\" of bus attribute to extract\n",
    "    :return: new dictionary after extraction\n",
    "    \"\"\"\n",
    "    if not isinstance(nested_dict, dict):\n",
    "        return None\n",
    "\n",
    "    new_dict = {}\n",
    "    layer1 = {}\n",
    "    layer2 = {}\n",
    "    for key, value in nested_dict.items(): \n",
    "        if key in time:\n",
    "            layer1 = value\n",
    "            for key, value in layer1.items():\n",
    "                if key in keys_to_extract:\n",
    "                    layer2 = value\n",
    "                    for busid, value in layer2.items():\n",
    "                        new_dict[busid] = value[attri]\n",
    "    return new_dict\n",
    "\n",
    "# for implicite equations, only voltage and theta is unknown parameters.\n",
    "time = ['2015-01-01 00:00:00']\n",
    "\n",
    "P_known_extract = [\"PVbus\", \"PQbus\"]\n",
    "P_unknown_extract = [\"slack\"]\n",
    "\n",
    "Q_known_extract = [\"PQbus\"]\n",
    "Q_unknown_extract = [\"slack\", \"PVbus\"]\n",
    "\n",
    "V_known_extract = [\"slack\", \"PVbus\"]\n",
    "V_unknown_extract = [\"PQbus\"]\n",
    "\n",
    "theta_known_extract = [\"slack\"]\n",
    "theta_unknown_extract = [\"PVbus\", \"PQbus\"]\n",
    "\n",
    "P_known = extract_keys(bus_attri, time, P_known_extract, \"P\")\n",
    "P_unknown = extract_keys(bus_attri, time, P_unknown_extract, \"P\")\n",
    "\n",
    "Q_known = extract_keys(bus_attri, time, Q_known_extract, \"Q\")\n",
    "Q_unknown = extract_keys(bus_attri, time, Q_unknown_extract, \"Q\")\n",
    "\n",
    "V_known = extract_keys(bus_attri, time, V_known_extract, \"V\")\n",
    "V_unknown = extract_keys(bus_attri, time, V_unknown_extract, \"V\")\n",
    "\n",
    "theta_known = extract_keys(bus_attri, time, theta_known_extract, \"theta\")\n",
    "theta_unknown = extract_keys(bus_attri, time, theta_unknown_extract, \"theta\")\n",
    "\n",
    "P = {**P_known, **P_unknown}\n",
    "Q = {**Q_known, **Q_unknown}\n",
    "V = {**V_known, **V_unknown}\n",
    "theta = {**theta_known, **theta_unknown}\n",
    "\n",
    "print(\"P\", P,\"\\n\"\n",
    "      \"Q\", Q, \"\\n\"\n",
    "      \"V\", V, \"\\n\"\n",
    "      \"theta\", theta)"
   ]
  },
  {
   "cell_type": "markdown",
   "metadata": {},
   "source": [
    "### 3.3 Perform Newton-Raphson algorithm to solve equations (Only calculate for the first snapshot as an example)\n",
    "\n",
    "The equations with known P and Q are called implicit equations. \n",
    "\n",
    "By solving this implicit part of equation system using N-R method, we can calculate the value of unknown V and theta. \n",
    "\n",
    "Then use the rest explicit equations of equation system to calculate the rest unknown P and Q. \n",
    "\n",
    "In this way, all unknow parameters are solved. Once get the P, Q, V, theta of every bus in the power network, calculate the lines flows for futher applications."
   ]
  },
  {
   "cell_type": "markdown",
   "metadata": {},
   "source": [
    "#### 3.3.1 Define the equations:\n",
    "For implicite equations, only voltage and theta is unknown parameters."
   ]
  },
  {
   "cell_type": "code",
   "execution_count": 38,
   "metadata": {},
   "outputs": [],
   "source": [
    "# After considering the links, the implicit bus contains all buses.\n",
    "implicit_bus = [slack] + PVbus + PQbus\n",
    "\n",
    "# define the symbols\n",
    "# V_k, V_i, G_ki, B_ki, theta_ki, P_k, Q_k = sp.symbols(\"V_k V_i G_ki B_ki theta_ki P_k Q_k\")\n",
    "# i, N = sp.symbols(\"i N\", integer=True)\n",
    "# # define the function\n",
    "# # for P function, we use: P_known, Q_known, V_known, theta_known, V_unknown, theta_unknown\n",
    "# Pfunction = V_k * V_i * (G_ki * sp.cos(theta_ki) + B_ki * sp.sin(theta_ki))\n",
    "# Qfunction =  V_k * V_i * (G_ki * sp.sin(theta_ki) - B_ki * sp.cos(theta_ki))\n",
    "\n",
    "# P: MW\n",
    "# Q: MVar\n",
    "# V: kV (Nominal voltage)\n",
    "# theta：rad\n",
    "\n",
    "def fp_cal(V, theta, k, P, G, B, implicit_bus):\n",
    "    # Define power flow equations\n",
    "    # param known: P, Q, G, B: dictionary containing active power P and reactive power Q of buses\n",
    "    # param unknown: V, theta: dictionary containing voltages and phase angles of buses\n",
    "    # param k: an integer meaning the k'th bus\n",
    "    V_k = V[k]\n",
    "    P_k = P[k]\n",
    "    fpsum = 0\n",
    "    for i in implicit_bus:    \n",
    "        V_i = V[i]  # kV\n",
    "        theta_ki = theta[k] - theta[i]  # rad\n",
    "        G_ki = G[k, i]  # conductance: Siemens\n",
    "        B_ki = B[k, i]  # susceptance: Siemens\n",
    "        fpsum += V_k * V_i * (G_ki * sp.cos(theta_ki) + B_ki * sp.sin(theta_ki))\n",
    "    # Transform the function into the left side of the equation\n",
    "    fpsum -= P_k\n",
    "    # Unit of fpsum:  MW    \n",
    "    return fpsum\n",
    "   \n",
    "def fq_cal(V, theta, k, Q, G, B, implicit_bus):\n",
    "    V_k = V[k]\n",
    "    Q_k = Q[k]\n",
    "    fqsum = 0\n",
    "    for i in implicit_bus:    \n",
    "        V_i = V[i]  # kV\n",
    "        theta_ki = theta[k] - theta[i]  # rad\n",
    "        G_ki = G[k, i]  # conductance: Siemens\n",
    "        B_ki = B[k, i]  # conductance: Siemens\n",
    "        fqsum += V_k * V_i * (G_ki * sp.sin(theta_ki) - B_ki * sp.cos(theta_ki))\n",
    "    # Transform the function into the left side of the equation\n",
    "    fqsum -= Q_k\n",
    "    # Unit of fqsum:  MVar    \n",
    "    return fqsum"
   ]
  },
  {
   "cell_type": "markdown",
   "metadata": {},
   "source": [
    "#### 3.3.2 Calculate the mismatches and relabel to get the vector of f (P & Q)."
   ]
  },
  {
   "cell_type": "code",
   "execution_count": 39,
   "metadata": {},
   "outputs": [
    {
     "name": "stdout",
     "output_type": "stream",
     "text": [
      "{7: -18861.9599201287, 6: -79247.9882131999, 8: -158434.174571772, 0: 19.6879342565000, 1: 451.258808368000, 4: 656.194687387300, 2: 140657.539990289, 5: 159993.475388239}\n",
      "{0: 0, 1: 0, 4: 0, 2: 0, 5: 0}\n",
      "[19.6879342565000, 451.258808368000, 140657.539990289, 656.194687387300, 159993.475388239, -79247.9882131999, -18861.9599201287, -158434.174571772]\n",
      "[0, 0, 0, 0, 0]\n"
     ]
    }
   ],
   "source": [
    "fp_result = {}\n",
    "fq_result = {}\n",
    "\n",
    "for i in PVbus:\n",
    "    fp_result[i] = fp_cal(V, theta, i, P, G, B, implicit_bus)\n",
    "\n",
    "for i in PQbus:\n",
    "    fp_result[i] = fp_cal(V, theta, i, P, G, B, implicit_bus)\n",
    "    fq_result[i] = fq_cal(V, theta, i, Q, G, B, implicit_bus)\n",
    "\n",
    "# get the mapping rule of row-index to bus ID.\n",
    "# Here the mapping means to skip the slack \"3\".\n",
    "# P\n",
    "Plist = PQbus + PVbus\n",
    "sorted_Plist = enumerate(sorted(Plist))\n",
    "P_mapping = {index: value for index, value in sorted_Plist}\n",
    "fp_vector = [fp_result[value] for key,value in P_mapping.items()]\n",
    "# Q\n",
    "sorted_Qlist = enumerate(sorted(PQbus))\n",
    "Q_mapping = {index: value for index, value in sorted_Qlist}\n",
    "fq_vector = [fq_result[value] for key, value in Q_mapping.items()]\n",
    "\n",
    "print(fp_result)\n",
    "print(fq_result)\n",
    "print(fp_vector)\n",
    "print(fq_vector)"
   ]
  },
  {
   "cell_type": "markdown",
   "metadata": {},
   "source": [
    "### 3.3.3 Build the Jacobian matrix"
   ]
  },
  {
   "cell_type": "markdown",
   "metadata": {},
   "source": [
    "#### 3.3.3.1 Review the methedology"
   ]
  },
  {
   "cell_type": "markdown",
   "metadata": {},
   "source": [
    "The Jacobian matrix $ (m \\times m)$ : $ J(x_1^0, x_2^0,..., x_m^0) $ at point $ (x_1^k, x_2^k,..., x_m^k) $\n",
    "$$ \n",
    "\\begin{pmatrix} \n",
    "\\frac {\\partial f_1(x_1^k, x_2^k,..., x_m^k)}{\\partial x_1} & \\frac {\\partial f_1(x_1^k, x_2^k,..., x_m^k)}{\\partial x_2} & ... & \\frac{\\partial f_1(x_1^k, x_2^k,..., x_m^k)}{\\partial x_m} \\\\ \n",
    "\\frac {\\partial f_2(x_1^k, x_2^k,..., x_m^k)}{\\partial x_1} & \\frac {\\partial f_2(x_1^k, x_2^k,..., x_m^k)}{\\partial x_2} & ... & \\frac{\\partial f_2(x_1^k, x_2^k,..., x_m^k)}{\\partial x_m} \\\\\n",
    "\\vdots & \\vdots & ... & \\vdots\\\\ \n",
    "\\frac {\\partial f_m(x_1^k, x_2^k,..., x_m^k)}{\\partial x_1} & \\frac {\\partial f_m(x_1^k, x_2^k,..., x_m^k)}{\\partial x_2} & ... & \\frac{\\partial f_m(x_1^k, x_2^k,..., x_m^k)}{\\partial x_m}\n",
    "\\end{pmatrix}\n",
    "$$\n"
   ]
  },
  {
   "cell_type": "markdown",
   "metadata": {},
   "source": [
    "In our code， the subscript of $f$ corresponds to the bus id (from 0 to n-1).\n",
    "\n",
    "$f$ consists of p and q functions, and $x$ includes V and theta. So Jacobian matrix can be written and divided into 4 parts as below:\n",
    "$$\n",
    "J = \\begin{pmatrix}\n",
    "\\frac {\\partial P_2}{\\partial \\theta_2} & \\cdots & \\frac {\\partial P_2}{\\partial \\theta_{N}} &| &\n",
    "\\frac {\\partial P_2}{\\partial V_{m+1}} & \\cdots & \\frac {\\partial P_2}{\\partial V_N} \\\\\n",
    "\\vdots & \\ddots & \\vdots &|& \\vdots & \\ddots & \\vdots \\\\\n",
    "\\frac {\\partial P_N}{\\partial \\theta_2} & \\cdots & \\frac {\\partial P_N}{\\partial \\theta_{N}} &| &\n",
    "\\frac {\\partial P_N}{\\partial V_{m+1}} & \\cdots & \\frac {\\partial P_N}{\\partial V_N} \\\\\n",
    "---&---&---&---&---&---&---\\\\\n",
    "\\frac {\\partial Q_{m+1}}{\\partial \\theta_2} & \\cdots & \\frac {\\partial Q_{m+1}}{\\partial \\theta_{N}} & |&\n",
    "\\frac {\\partial Q_{m+1}}{\\partial V_{m+1}} & \\cdots & \\frac {\\partial Q_{m+1}}{\\partial V_N} \\\\\n",
    "\\vdots & \\ddots & \\vdots &|& \\vdots & \\ddots & \\vdots \\\\\n",
    "\\frac {\\partial Q_N}{\\partial \\theta_2} & \\cdots & \\frac {\\partial Q_N}{\\partial \\theta_{N}} & |&\n",
    "\\frac {\\partial Q_N}{\\partial V_{m+1}} & \\cdots & \\frac {\\partial Q_N}{\\partial V_N} \n",
    "\\end{pmatrix} \n",
    "= \\begin{pmatrix}\n",
    "H &|& M \\\\ ---&---&--- \\\\ N &|&  L\n",
    "\\end{pmatrix}\n",
    "$$"
   ]
  },
  {
   "cell_type": "markdown",
   "metadata": {},
   "source": [
    "Specifically, substitute into the calculation formula of P and Q, we get:\n",
    "$$\n",
    "P_k(\\theta_2,...,\\theta_N, V_{m+1},...,V_N) = \\sum_{i=1}^{N} V_k V_i [G_{ki}cos(\\theta_{ki})+B_{ki}sin{\\theta_{ki}}] - P_k\n",
    "$$\n",
    "$$\n",
    "Q_k(\\theta_2,...,\\theta_N, V_{m+1},...,V_N) = \\sum_{i=1}^{N} V_k V_i [G_{ki}sin(\\theta_{ki})- B_{ki}cos{\\theta_{ki}}] - Q_k\n",
    "$$\n",
    "- H terms of Jacobian matrix:\n",
    "$$\n",
    "For \\left\\{ \n",
    "    \\begin{aligned}\n",
    "    & i \\neq k:  \\\\\n",
    "    & H_{ki} = \\frac {\\partial P_k}{\\partial \\theta_i} = V_k V_i[G_{ki} \\sin(\\theta_k - \\theta_i) - B_{ki} \\cos(\\theta_k - \\theta_i)]\\\\\n",
    "    & i = k: \\\\\n",
    "    & H_{kk} = \\frac {\\partial P_k}{\\partial \\theta_k} = \\sum_{i=1\\\\(i \\neq k)}^{N} V_k V_i[-G_{ki} \\sin(\\theta_k - \\theta_i) + B_{ki} \\cos(\\theta_k - \\theta_i)]\n",
    "    \\end{aligned}\n",
    "\\right.\n",
    "$$\n",
    "- M terms of Jacobian matrix:\n",
    "$$\n",
    "For \\left\\{ \n",
    "    \\begin{aligned}\n",
    "    & i \\neq k:  \\\\\n",
    "    & M_{ki} = \\frac {\\partial P_k}{\\partial V_i} = V_k[G_{ki} \\cos(\\theta_k - \\theta_i) + B_{ki} \\sin(\\theta_k - \\theta_i)]\\\\\n",
    "    & i = k: \\\\\n",
    "    & M_{kk} = \\frac {\\partial P_k}{\\partial V_k} = 2G_{kk}V_k + \\sum_{i=1\\\\(i \\neq k)}^{N} V_i[G_{ki} \\cos(\\theta_k - \\theta_i) + B_{ki} \\sin(\\theta_k - \\theta_i)]\n",
    "    \\end{aligned}\n",
    "\\right.\n",
    "$$\n",
    "- N terms of Jacobian matrix:\n",
    "$$\n",
    "For \\left\\{ \n",
    "    \\begin{aligned}\n",
    "    & i \\neq k:  \\\\\n",
    "    & N_{ki} = \\frac {\\partial Q_k}{\\partial \\theta_i} = V_k V_i[-G_{ki} \\cos(\\theta_k - \\theta_i) - B_{ki} \\sin(\\theta_k - \\theta_i)]\\\\\n",
    "    & i = k: \\\\\n",
    "    & N_{kk} = \\frac {\\partial Q_k}{\\partial \\theta_k} = \\sum_{i=1\\\\(i \\neq k)}^{N} V_i V_k[G_{ki} \\cos(\\theta_k - \\theta_i) + B_{ki} \\sin(\\theta_k - \\theta_i)]\n",
    "    \\end{aligned}\n",
    "\\right.\n",
    "$$\n",
    "- L terms of Jacobian matrix:\n",
    "$$\n",
    "For \\left\\{ \n",
    "    \\begin{aligned}\n",
    "    & i \\neq k:  \\\\\n",
    "    & L_{ki} = \\frac {\\partial Q_k}{\\partial V_i} = V_k[G_{ki} \\sin(\\theta_k - \\theta_i) - B_{ki} \\cos(\\theta_k - \\theta_i)]\\\\\n",
    "    & i = k: \\\\\n",
    "    & L_{kk} = \\frac {\\partial Q_k}{\\partial V_k} = - 2B_{kk}V_k + \\sum_{i=1\\\\(i \\neq k)}^{N} V_i[G_{ki} \\sin(\\theta_k - \\theta_i) - B_{ki} \\cos(\\theta_k - \\theta_i)]\n",
    "    \\end{aligned}\n",
    "\\right.\n",
    "$$\n",
    "\n",
    "- More details: \n",
    "\n",
    "H terms: P (id in P_known) v.s. theta (id in theta_unknown), dimension: PN * thetaN\n",
    "\n",
    "M terms: P (id in P_known) v.s. V (id in V_unknown), dimension: PN * VN\n",
    "\n",
    "N terms: Q (id in Q_known) v.s. theta (id in theta_unknown), dimension: QN * thetaN\n",
    "\n",
    "L terms: Q (id in Q_known) v.s. V (id in V_unknown), dimension: QN * VN\n",
    "\n",
    "J: (PN + QN) * (thetaN + VN)"
   ]
  },
  {
   "cell_type": "markdown",
   "metadata": {},
   "source": [
    "#### 3.3.3.2 Some preparation."
   ]
  },
  {
   "cell_type": "code",
   "execution_count": 42,
   "metadata": {},
   "outputs": [],
   "source": [
    "# number of buses involved in the implicit system of equations: N\n",
    "N = len(implicit_bus)\n",
    "# number of PQ buses: PQN, number of PV buses: PVN\n",
    "PQN = len(PQbus)\n",
    "PVN = len(PVbus)\n",
    "# equation number: EN\n",
    "EN = 2*PQN + PVN\n",
    "# P function number: PN, Q function number: QN\n",
    "PN = PQN + PVN\n",
    "QN = PQN\n",
    "# unknown parameter V number: VN, theta number: thetaN\n",
    "VN = PQN \n",
    "thetaN = PQN + PVN \n",
    "# number of rows/columns of J matrix\n",
    "JN = PN + QN"
   ]
  },
  {
   "cell_type": "code",
   "execution_count": 55,
   "metadata": {},
   "outputs": [
    {
     "name": "stdout",
     "output_type": "stream",
     "text": [
      "PN= 8 QN= 5 thetaN= 8 VN= 5\n"
     ]
    }
   ],
   "source": [
    "print(\"PN=\", PN, \"QN=\", QN, \"thetaN=\", thetaN, \"VN=\", VN )"
   ]
  },
  {
   "cell_type": "markdown",
   "metadata": {},
   "source": [
    "IMPORTANT: To make sure that the Jacobian matrix is ​​reversible, it is necessary to delete the IDs of other buses and slack bus, and re-label them as the coordinates of the J matrix."
   ]
  },
  {
   "cell_type": "code",
   "execution_count": 47,
   "metadata": {},
   "outputs": [],
   "source": [
    "# get the mapping rule of row/column-index to bus ID. Mapping can be used as subscripts.\n",
    "# P\n",
    "Plist = PQbus + PVbus\n",
    "sorted_Plist = enumerate(sorted(Plist))\n",
    "P_mapping = {index: value for index, value in sorted_Plist}\n",
    "fp_vector = [fp_result[value] for key,value in P_mapping.items()]\n",
    "# Q\n",
    "sorted_Qlist = enumerate(sorted(PQbus))\n",
    "Q_mapping = {index: value for index, value in sorted_Qlist}\n",
    "fq_vector = [fq_result[value] for key, value in Q_mapping.items()]\n",
    "# theta\n",
    "theta_mapping = P_mapping\n",
    "# V\n",
    "V_mapping = Q_mapping"
   ]
  },
  {
   "cell_type": "code",
   "execution_count": 78,
   "metadata": {},
   "outputs": [
    {
     "data": {
      "text/plain": [
       "{0: 0, 1: 1, 2: 2, 3: 4, 4: 5, 5: 6, 6: 7, 7: 8}"
      ]
     },
     "execution_count": 78,
     "metadata": {},
     "output_type": "execute_result"
    }
   ],
   "source": [
    "P_mapping"
   ]
  },
  {
   "cell_type": "markdown",
   "metadata": {},
   "source": [
    "#### 3.3.3.3 Build the $H, M, N, L$ matrix to get Jacobian matrix $J$"
   ]
  },
  {
   "cell_type": "code",
   "execution_count": 73,
   "metadata": {},
   "outputs": [],
   "source": [
    "def J_cal(PN, QN, thetaN, VN, JN, V, G, B, theta, theta_mapping, P_mapping, V_mapping, Q_mapping, implicit_bus):\n",
    "    J_matrix = np.zeros((JN,JN),dtype=complex)\n",
    "\n",
    "    #H_matrix\n",
    "    H_matrix = np.zeros((PN,thetaN),dtype=complex)\n",
    "    for j in range(thetaN):\n",
    "        for k in range(PN):\n",
    "            if theta_mapping[j] != P_mapping[k]:\n",
    "                # mapping: row/column-index to bus ID\n",
    "                H_matrix[k,j] = V[P_mapping[k]] * V[theta_mapping[j]] * (G[P_mapping[k], theta_mapping[j]] * sp.sin(theta[P_mapping[k]] - theta[theta_mapping[j]]) - B[P_mapping[k], theta_mapping[j]] * sp.cos(theta[P_mapping[k]] - theta[theta_mapping[j]]))\n",
    "            elif theta_mapping[j] == P_mapping[k]:\n",
    "                for i in implicit_bus:\n",
    "                    # bus ID in \"implicit bus\" list\n",
    "                    if i != P_mapping[k]:\n",
    "                        element = V[P_mapping[k]] * V[i] * (-G[P_mapping[k],i] * sp.sin(theta[P_mapping[k]] - theta[i]) + B[P_mapping[k],i] * sp.cos(theta[P_mapping[k]] - theta[i]))\n",
    "                    H_matrix[k,k] += element\n",
    "\n",
    "    #M_matrix\n",
    "    M_matrix = np.zeros((PN,VN),dtype=complex)\n",
    "    for j in range(VN):\n",
    "        for k in range(PN):\n",
    "            if V_mapping[j] != P_mapping[k]:\n",
    "                M_matrix[k,j] = V[P_mapping[k]] * (G[P_mapping[k], V_mapping[j]] * sp.cos(theta[P_mapping[k]] - theta[V_mapping[j]]) + B[P_mapping[k], V_mapping[j]] * sp.sin(theta[P_mapping[k]] - theta[V_mapping[j]]) + B[P_mapping[k], V_mapping[j]] * sp.sin(theta[P_mapping[k]] - theta[V_mapping[j]]))\n",
    "            elif V_mapping[j] == P_mapping[k]:\n",
    "                for i in implicit_bus:\n",
    "                    if i != P_mapping[k]:\n",
    "                        element = V[i] * (G[P_mapping[k],i] * sp.cos(theta[P_mapping[k]] - theta[i]) + B[P_mapping[k],i] * sp.sin(theta[P_mapping[k]] - theta[i]))\n",
    "                    M_matrix[k,k] += element \n",
    "                M_matrix[k,k] += 2 * G[P_mapping[k],P_mapping[k]] * V[P_mapping[k]]\n",
    "\n",
    "    #N_matrix\n",
    "    N_matrix = np.zeros((QN,thetaN),dtype=complex)\n",
    "    for j in range(thetaN):\n",
    "        for k in range(QN):\n",
    "            if theta_mapping[j] != Q_mapping[k]:\n",
    "                N_matrix[k,j] = V[Q_mapping[k]] * V[theta_mapping[j]] * (-G[Q_mapping[k],theta_mapping[j]] * sp.cos(theta[Q_mapping[k]] - theta[theta_mapping[j]]) - B[Q_mapping[k],theta_mapping[j]] * sp.sin(theta[Q_mapping[k]] - theta[theta_mapping[j]]))\n",
    "            elif theta_mapping[j] == Q_mapping[k]:\n",
    "                for i in implicit_bus:\n",
    "                    if i != Q_mapping[k]:\n",
    "                        element = V[Q_mapping[k]] * V[i] * (G[Q_mapping[k],i] * sp.cos(theta[Q_mapping[k]] - theta[i]) + B[Q_mapping[k],i] * sp.sin(theta[Q_mapping[k]] - theta[i]))\n",
    "                    N_matrix[k,k] += element \n",
    "\n",
    "    #L_matrix\n",
    "    L_matrix = np.zeros((QN,VN),dtype=complex)\n",
    "    for j in range(VN):\n",
    "        for k in range(QN):\n",
    "            if V_mapping[j] != Q_mapping[k]:\n",
    "                L_matrix[k,j] = V[Q_mapping[k]] * (G[Q_mapping[k],V_mapping[j]] * sp.sin(theta[Q_mapping[k]] - theta[V_mapping[j]]) - B[Q_mapping[k],V_mapping[j]] * sp.cos(theta[Q_mapping[k]] - theta[V_mapping[j]]))\n",
    "            elif V_mapping[j] == Q_mapping[k]:\n",
    "                for i in implicit_bus:\n",
    "                    if i != Q_mapping[k]:\n",
    "                        element = V[i] * (G[Q_mapping[k],i] * sp.sin(theta[Q_mapping[k]]-theta[i]) - B[Q_mapping[k],i]* sp.cos(theta[Q_mapping[k]] - theta[i]))\n",
    "                    L_matrix[k,k] += element \n",
    "                L_matrix += -2 * B[Q_mapping[k],Q_mapping[k]] * V[Q_mapping[k]]\n",
    "\n",
    "    #J_matrix\n",
    "    top = np.hstack((H_matrix, M_matrix))  # Splice H and M left and right to calculate\n",
    "    bottom = np.hstack((N_matrix, L_matrix))  # Splice N and L left and right to calculate\n",
    "    J_matrix = np.vstack((top, bottom))\n",
    "\n",
    "    return J_matrix, H_matrix, M_matrix, N_matrix, L_matrix"
   ]
  },
  {
   "cell_type": "code",
   "execution_count": 77,
   "metadata": {},
   "outputs": [
    {
     "name": "stdout",
     "output_type": "stream",
     "text": [
      "0j\n"
     ]
    }
   ],
   "source": [
    "all_result = J_cal(PN, QN, thetaN, VN, JN, V, G, B, theta, theta_mapping, P_mapping, V_mapping, Q_mapping, implicit_bus)\n",
    "J_matrix, H_matrix, M_matrix, N_matrix, L_matrix = all_result\n",
    "#np.set_printoptions(precision=2, suppress=True)\n",
    "#df = pd.DataFrame(J_result)\n",
    "print(H_matrix[6,6])"
   ]
  },
  {
   "cell_type": "markdown",
   "metadata": {},
   "source": [
    "#### 3.3.3.4 Invert the Jacobian matrix"
   ]
  },
  {
   "cell_type": "markdown",
   "metadata": {},
   "source": [
    "Considering the iteration, then the implicit part of the power flow equation system becomes:\n",
    "\n",
    "$$\n",
    "\\begin{pmatrix} x_1^{k+1} \\\\ x_2^{k+1} \\\\ \\vdots \\\\ x_m^{k+1} \\end{pmatrix} - \\begin{pmatrix} x_1^{k} \\\\ x_2^{k} \\\\ \\vdots \\\\ x_m^{k} \\end{pmatrix} = \\begin{pmatrix} \\Delta x_1^k \\\\ \\Delta x_2^k \\\\ \\vdots \\\\ \\Delta x_m^k \\end{pmatrix} \n",
    "= - J(x_1^k, x_2^k,..., x_m^k)^{-1} \\begin{pmatrix} f_1(x_1^k, x_2^k,..., x_m^k) \\\\ f_2(x_1^k, x_2^k,..., x_m^k) \\\\ \\vdots \\\\ f_m(x_1^k, x_2^k,..., x_m^k) \\end{pmatrix}\n",
    "$$"
   ]
  },
  {
   "cell_type": "code",
   "execution_count": 80,
   "metadata": {},
   "outputs": [
    {
     "name": "stdout",
     "output_type": "stream",
     "text": [
      "矩阵不可逆。\n",
      "全零行的索引: [6]\n",
      "全零列的索引: [6]\n"
     ]
    }
   ],
   "source": [
    "try:\n",
    "    inverse_J = np.linalg.inv(J_result)\n",
    "    print(\"逆矩阵:\")\n",
    "    print(inverse_J)\n",
    "except np.linalg.LinAlgError:\n",
    "    print(\"矩阵不可逆。\")\n",
    "\n",
    "# 找到全零行\n",
    "zero_rows = np.where(~J_result.any(axis=1))[0]\n",
    "# 找到全零列\n",
    "zero_columns = np.where(~J_result.any(axis=0))[0]\n",
    "#if zero_columns == zero_rows:\n",
    "#    if zero_rows 小于等于 H 的rows数：\n",
    "#        直接用Pmapping反求ID\n",
    "#    else:\n",
    "#        用Qmapping反求id，index为zero——rows - hrow数减一\n",
    "#    zero_busID = \n",
    "\n",
    "print(\"全零行的索引:\", zero_rows)\n",
    "print(\"全零列的索引:\", zero_columns)"
   ]
  },
  {
   "cell_type": "markdown",
   "metadata": {},
   "source": [
    "### 3.3.4 Iteration"
   ]
  },
  {
   "cell_type": "code",
   "execution_count": null,
   "metadata": {},
   "outputs": [],
   "source": []
  },
  {
   "cell_type": "markdown",
   "metadata": {},
   "source": [
    "### 3.3.5 Calculate the corrections"
   ]
  },
  {
   "cell_type": "code",
   "execution_count": null,
   "metadata": {},
   "outputs": [],
   "source": []
  },
  {
   "cell_type": "markdown",
   "metadata": {},
   "source": [
    "2. covert to python step by step.\n",
    "- apply NR method to the nodal power balance equations (only the implicit part), where the unknown parameters are voltage magnitude $V$ and phase $\\theta$ at node.\n",
    "\n",
    "ok@对示例中的bus分类\n",
    "\n",
    "为每一个node设定种类，对应的已知量和未知量，\n",
    "\n",
    "有个问题：既有generator又有loads被归类为PV bus，P是根据G还是L确定？根据G的话，通常比L大，是不是应该等于G-L，因为这里的P 是injection\n",
    "\n",
    "使用正确的Ymatrix的real or imaginary part\n",
    "\n",
    "设置初始值, 只有电压 magnitude和phase\n",
    "\n",
    "把f函数写出来，计算初始点的函数值\n",
    "\n",
    "#### NOW! 把jmatrix 写出来，然后求逆。\n",
    "\n",
    "然后迭代。\n",
    "\n",
    "如何迭代更新值？更新对应的字典：即V_unknown, theta_unknown？\n",
    "\n",
    "迭代求解直到误差足够小\n",
    "\n",
    "3. run an example.\n",
    "例子里面先不跑other bus，方程和未知数暂时对不上\n",
    "有必要还可以跑一个三个node的例子"
   ]
  },
  {
   "cell_type": "markdown",
   "metadata": {},
   "source": [
    "Question: \n",
    "\n",
    "Sparsity Programming\n",
    "\n",
    "how to convert to sparse matrix?\n",
    "\n",
    "read the example on page 126, decide the next step\n",
    "\n",
    "recall the N-R ssolving process, how to define the links?\n",
    "\n",
    "### Is there any preconstrains like: < the p_non\n",
    "\n",
    "用vector表示而不是dic？\n",
    "\n",
    "数据的结构-浮点数，应该设置到小数点后面多少位就可以？\n",
    "\n",
    "看看julia - github 上star的那个repository\n",
    "\n",
    "power flow 不平衡的后果是什么？\n",
    "\n",
    "领英上看到很多有关电网和AI的书，看看有什么不同，有什么帮助，有什么趋势？\n",
    "\n",
    "If add a constrain to do a optimization?"
   ]
  },
  {
   "cell_type": "markdown",
   "metadata": {},
   "source": [
    "### 3.4 Update the voltage magnitudes and angles until mismatches are sufficiently small"
   ]
  },
  {
   "cell_type": "code",
   "execution_count": null,
   "metadata": {},
   "outputs": [],
   "source": []
  },
  {
   "cell_type": "markdown",
   "metadata": {},
   "source": [
    "## 4. Using the explicit equations, calculate the active injection at the slack bus and the reactive injections at the PV buses\n"
   ]
  },
  {
   "cell_type": "code",
   "execution_count": null,
   "metadata": {},
   "outputs": [],
   "source": []
  },
  {
   "cell_type": "markdown",
   "metadata": {},
   "source": [
    "## 5. Calculate the line flows (for different snapshots?)."
   ]
  },
  {
   "cell_type": "code",
   "execution_count": null,
   "metadata": {},
   "outputs": [],
   "source": []
  },
  {
   "cell_type": "markdown",
   "metadata": {},
   "source": [
    "## 6. Analyse Power Flow Results:\n",
    "\n",
    "Check the computed results to ensure voltage stability and power balance.\n",
    "Analyse the power flow results to identify flow constraints or problematic nodes.\n",
    "Optionally: Perform fault analysis or load forecasting.\n",
    "\n",
    "## 7. Optimize Grid Operations (Optional):\n",
    "\n",
    "Model grid operations as an optimization problem, such as minimizing power losses or maximizing voltage stability.\n",
    "Use optimization algorithms to find the optimal solution.\n",
    "Analyse the optimization results to assess the effectiveness of operational recommendations."
   ]
  },
  {
   "cell_type": "code",
   "execution_count": null,
   "metadata": {},
   "outputs": [],
   "source": [
    "import numpy as np\n",
    "\n",
    "# Step 1: Collect Grid Parameters\n",
    "# Collect topology information, power injections, line parameters, etc.\n",
    "\n",
    "# Step 2: Build Grid Model\n",
    "# Construct node admittance matrix, line impedance matrix, and power injection vector\n",
    "# Set initial guesses for voltage magnitudes and phases\n",
    "\n",
    "# Step 3: Perform Power Flow Calculation\n",
    "def power_flow_equations(x):\n",
    "    # Define power flow equations\n",
    "    # x: vector containing voltages and phase angles of buses\n",
    "    # Implement power flow equations here\n",
    "    return result\n",
    "\n",
    "initial_guess = np.zeros(num_buses * 2)  # Initial guess for voltages and phase angles\n",
    "result = minimize(power_flow_equations, initial_guess)\n",
    "\n",
    "if result.success:\n",
    "    voltages = result.x[:num_buses]\n",
    "    phase_angles = result.x[num_buses:]\n",
    "    # Print or further process results\n",
    "else:\n",
    "    print(\"Power flow calculation failed.\")\n",
    "\n",
    "# Step 4: Analyse Power Flow Results\n",
    "# Check voltage stability, power balance, flow constraints, etc.\n",
    "\n",
    "# Step 5: Optimize Grid Operations (Optional)\n",
    "def objective_function(x):\n",
    "    # Define objective function for optimization\n",
    "    # x: vector containing control variables (e.g., power injections)\n",
    "    # Implement objective function here\n",
    "    return result\n",
    "\n",
    "optimization_result = minimize(objective_function, initial_guess)\n",
    "\n",
    "if optimization_result.success:\n",
    "    optimal_controls = optimization_result.x\n",
    "    # Print or further process optimization results\n",
    "else:\n",
    "    print(\"Optimization failed.\")\n"
   ]
  }
 ],
 "metadata": {
  "kernelspec": {
   "display_name": "pypsa-eur",
   "language": "python",
   "name": "python3"
  },
  "language_info": {
   "codemirror_mode": {
    "name": "ipython",
    "version": 3
   },
   "file_extension": ".py",
   "mimetype": "text/x-python",
   "name": "python",
   "nbconvert_exporter": "python",
   "pygments_lexer": "ipython3",
   "version": "3.11.8"
  }
 },
 "nbformat": 4,
 "nbformat_minor": 2
}
